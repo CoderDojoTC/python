{
 "cells": [
  {
   "cell_type": "markdown",
   "metadata": {},
   "source": [
    "# Object Oriented Programming (OOP) in Python"
   ]
  },
  {
   "cell_type": "markdown",
   "metadata": {},
   "source": [
    "Python follows all these - \n",
    "- Functional Programming\n",
    "- Object Oreinted Programming\n",
    "- Procedural Oreinted Prgramming"
   ]
  },
  {
   "cell_type": "markdown",
   "metadata": {},
   "source": [
    "**OOP is based on the concept of objects**\n",
    "\n",
    "Objects are defined by their own properties or attributes\n",
    "\n",
    "Software is designed by using objects that interact with each other.\n",
    "\n",
    "**Various benefits which we see are below-**\n",
    "- being faster and easier to execute\n",
    "- providing a clear structure for a program\n",
    "- making code easy to modify, debug and maintain\n",
    "- making it easier to reuse code\n",
    "\n",
    "Some object oriented languages are - Java, C++, Python, Javascript\n",
    "\n",
    "Example -\n",
    "Take an example of car\n",
    "A car has model name, a colour, a year in which it was manufactured, an engine size and so on.\n",
    "We would therefore ceate a Car object with name, colour, engine size and year as attributes\n",
    "For every new car we use, we would use the car object. Either we have a 2019 Blue BMW or a 2017 red Audi. \n",
    "In each instance, we could reuse the code contained in original object."
   ]
  },
  {
   "cell_type": "markdown",
   "metadata": {},
   "source": [
    "Main principles of OOP are -\n",
    "\n",
    "- Encapsulation\n",
    "- Abstraction\n",
    "- Inheritance\n",
    "- Polymorphism\n",
    "\n"
   ]
  },
  {
   "cell_type": "markdown",
   "metadata": {},
   "source": [
    "# Introduction to Python"
   ]
  },
  {
   "cell_type": "markdown",
   "metadata": {},
   "source": [
    "**What is coding?**\n",
    "\n",
    "Computer Programmers or coders are people who write step by step instructions that can make\n",
    "a computer perform a task. Eg - We can get computers do addition,make music, edit pictures, fly a rocket to Mars.\n",
    "\n",
    "Computers are **dumb** boxes which can't do anything of it's own. We need to feed the inputs or instructions in order to get something done.\n",
    "\n",
    "**Programming Languages -**\n",
    "\n",
    "In order to tell a computer to do something, we need to learn a programming language.\n",
    "Python is a text based programming language. A coder needs to code using words, abbrevaiations, numbers and symbols.\n",
    "Eg -\n"
   ]
  },
  {
   "cell_type": "code",
   "execution_count": 13,
   "metadata": {},
   "outputs": [
    {
     "data": {
      "text/plain": [
       "6"
      ]
     },
     "execution_count": 13,
     "metadata": {},
     "output_type": "execute_result"
    }
   ],
   "source": [
    "3+3"
   ]
  },
  {
   "cell_type": "markdown",
   "metadata": {},
   "source": [
    "Anyone can code -\n",
    "\n",
    "Coding is very easy - you just need to keep some basic rules and commands in mind and\n",
    "then start writing programs to suit your skills and interests\n",
    "- think logically\n",
    "- Pay attention to detail\n",
    "\n",
    "**Bugs -**\n",
    "Bugs are errors in code that make programs behave in unexpected wways.\n",
    "\n"
   ]
  },
  {
   "cell_type": "markdown",
   "metadata": {},
   "source": [
    "Python was first released in 1990s and now is used to build millions of apps, games and websites.\n",
    "\n",
    "**Why you should learn Python**\n",
    "- Easy to read and write\n",
    "- Works everywhere\n",
    "- Batteries included\n",
    "- Handy tools\n",
    "- Great support"
   ]
  },
  {
   "cell_type": "markdown",
   "metadata": {},
   "source": [
    "**Real world use cases of Python**\n",
    "\n",
    "- Crawling the web\n",
    "- Serious business - banks, big stores, insurance, healthcare & **analytics**\n",
    "- Medical marvels\n",
    "- In the movies\n"
   ]
  },
  {
   "cell_type": "markdown",
   "metadata": {},
   "source": [
    "**First Program in Python**"
   ]
  },
  {
   "cell_type": "code",
   "execution_count": 4,
   "metadata": {},
   "outputs": [
    {
     "name": "stdout",
     "output_type": "stream",
     "text": [
      "Hello, World!\n"
     ]
    }
   ],
   "source": [
    "print(\"Hello, World!\")"
   ]
  },
  {
   "cell_type": "code",
   "execution_count": 6,
   "metadata": {},
   "outputs": [
    {
     "name": "stdout",
     "output_type": "stream",
     "text": [
      "Whether you want to play the game?Yes\n",
      "Yes\n"
     ]
    }
   ],
   "source": [
    "student=input('Whether you want to play the game?')\n",
    "print(student)"
   ]
  },
  {
   "cell_type": "code",
   "execution_count": 7,
   "metadata": {},
   "outputs": [
    {
     "data": {
      "text/plain": [
       "str"
      ]
     },
     "execution_count": 7,
     "metadata": {},
     "output_type": "execute_result"
    }
   ],
   "source": [
    "type(student)"
   ]
  },
  {
   "cell_type": "code",
   "execution_count": 11,
   "metadata": {},
   "outputs": [],
   "source": [
    "pratham='I am a student \\\n",
    "Good'"
   ]
  },
  {
   "cell_type": "code",
   "execution_count": 12,
   "metadata": {},
   "outputs": [
    {
     "name": "stdout",
     "output_type": "stream",
     "text": [
      "I am a student Good\n"
     ]
    }
   ],
   "source": [
    "print(pratham)"
   ]
  }
 ],
 "metadata": {
  "kernelspec": {
   "display_name": "Python 3",
   "language": "python",
   "name": "python3"
  },
  "language_info": {
   "codemirror_mode": {
    "name": "ipython",
    "version": 3
   },
   "file_extension": ".py",
   "mimetype": "text/x-python",
   "name": "python",
   "nbconvert_exporter": "python",
   "pygments_lexer": "ipython3",
   "version": "3.7.3"
  }
 },
 "nbformat": 4,
 "nbformat_minor": 2
}
