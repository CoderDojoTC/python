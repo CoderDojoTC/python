{
 "cells": [
  {
   "cell_type": "markdown",
   "metadata": {},
   "source": [
    "# Canvas Draw Box"
   ]
  },
  {
   "cell_type": "code",
   "execution_count": 3,
   "metadata": {},
   "outputs": [
    {
     "data": {
      "application/vnd.jupyter.widget-view+json": {
       "model_id": "37e967d00c24475ab14cb9f55e679ae2",
       "version_major": 2,
       "version_minor": 0
      },
      "text/plain": [
       "Canvas(height=100, width=200)"
      ]
     },
     "metadata": {},
     "output_type": "display_data"
    }
   ],
   "source": [
    "from ipycanvas import Canvas\n",
    "\n",
    "c = Canvas(width=200, height=100)\n",
    "\n",
    "c.fill_style = 'blue'\n",
    "c.fill_rect(10, 10, 180, 80);\n",
    "\n",
    "c\n"
   ]
  },
  {
   "cell_type": "code",
   "execution_count": 5,
   "metadata": {},
   "outputs": [
    {
     "data": {
      "application/vnd.jupyter.widget-view+json": {
       "model_id": "2a19ccf37f1a48af81241362054fd3ca",
       "version_major": 2,
       "version_minor": 0
      },
      "text/plain": [
       "Canvas(height=100, width=400)"
      ]
     },
     "metadata": {},
     "output_type": "display_data"
    }
   ],
   "source": [
    "from ipycanvas import Canvas\n",
    "\n",
    "canvas = Canvas(width=400, height=100)\n",
    "\n",
    "# draw a some lines of different colors and widths\n",
    "\n",
    "canvas.translate(10,20)\n",
    "\n",
    "canvas.stroke_style = 'red';\n",
    "c.fill_style = 'red'\n",
    "canvas.line_width = 1\n",
    "canvas.move_to(0, 0)\n",
    "canvas.line_to(400, 0)\n",
    "canvas.stroke()\n",
    "canvas.flush()\n",
    "\n",
    "canvas.stroke_style = 'orange';\n",
    "c.fill_style = 'red'\n",
    "canvas.line_width = 2\n",
    "canvas.move_to(0, 25)\n",
    "canvas.line_to(400, 25)\n",
    "canvas.stroke()\n",
    "canvas.flush()\n",
    "\n",
    "canvas.stroke_style = 'green';\n",
    "canvas.line_width = 3\n",
    "canvas.move_to(0, 50)\n",
    "canvas.line_to(400, 50)\n",
    "canvas.stroke()\n",
    "\n",
    "# bug - the last style is use by all the stroke functions\n",
    "canvas.stroke_style = 'purple';\n",
    "canvas.line_width = 6\n",
    "canvas.move_to(0, 75)\n",
    "canvas.line_to(400, 75)\n",
    "canvas.stroke()\n",
    "\n",
    "canvas"
   ]
  },
  {
   "cell_type": "code",
   "execution_count": 57,
   "metadata": {},
   "outputs": [
    {
     "data": {
      "application/vnd.jupyter.widget-view+json": {
       "model_id": "19b372cc685e42b8a26a82ac15266bb0",
       "version_major": 2,
       "version_minor": 0
      },
      "text/plain": [
       "Canvas(height=220, width=220)"
      ]
     },
     "metadata": {},
     "output_type": "display_data"
    }
   ],
   "source": [
    "from math import pi\n",
    "\n",
    "from ipycanvas import Canvas\n",
    "\n",
    "canvas = Canvas(width=220, height=220)\n",
    "\n",
    "canvas.fill_style = 'red'\n",
    "canvas.stroke_style = 'blue'\n",
    "\n",
    "canvas.fill_arc(60, 60, 50, 0, pi)\n",
    "canvas.stroke_arc(60, 60, 40, 0, 2 * pi)\n",
    "\n",
    "canvas.fill_style = 'green'\n",
    "canvas.stroke_style = 'purple'\n",
    "\n",
    "canvas.fill_arc(160, 160, 50, 0, pi)\n",
    "canvas.stroke_arc(160, 160, 40, 0, 2 * pi)\n",
    "\n",
    "canvas"
   ]
  },
  {
   "cell_type": "code",
   "execution_count": 58,
   "metadata": {},
   "outputs": [
    {
     "data": {
      "application/vnd.jupyter.widget-view+json": {
       "model_id": "9ee9c6ef40d140c1b9d3d04f3f27d017",
       "version_major": 2,
       "version_minor": 0
      },
      "text/plain": [
       "Canvas(height=50, width=400)"
      ]
     },
     "metadata": {},
     "output_type": "display_data"
    }
   ],
   "source": [
    "from ipycanvas import Canvas\n",
    "\n",
    "canvas = Canvas(width=400, height=50)\n",
    "\n",
    "canvas.font = '32px serif'\n",
    "canvas.fill_text('Drawing from Python is cool!', 10, 32)\n",
    "canvas"
   ]
  },
  {
   "cell_type": "code",
   "execution_count": 80,
   "metadata": {},
   "outputs": [
    {
     "data": {
      "application/vnd.jupyter.widget-view+json": {
       "model_id": "5b9ba2643ac24bb899a0783b28a401c5",
       "version_major": 2,
       "version_minor": 0
      },
      "text/plain": [
       "Canvas(height=170, width=400)"
      ]
     },
     "metadata": {},
     "output_type": "display_data"
    }
   ],
   "source": [
    "from ipycanvas import Canvas\n",
    "\n",
    "canvas = Canvas(width=400, height=170)\n",
    "\n",
    "# draw a some lines of different colors and widths\n",
    "\n",
    "canvas.translate(10,10)\n",
    "\n",
    "canvas.fill_style = 'red';\n",
    "canvas.fill_rect(0, 0, 400, 10)\n",
    "\n",
    "canvas.fill_style = 'orange';\n",
    "canvas.fill_rect(0, 25, 400, 10)\n",
    "\n",
    "canvas.fill_style = 'yellow';\n",
    "canvas.fill_rect(0, 50, 400, 10)\n",
    "\n",
    "canvas.fill_style = 'green';\n",
    "canvas.fill_rect(0, 75, 400, 10)\n",
    "\n",
    "canvas.fill_style = 'blue';\n",
    "canvas.fill_rect(0, 100, 400, 10)\n",
    "\n",
    "canvas.fill_style = 'purple';\n",
    "canvas.fill_rect(0, 125, 400, 10)\n",
    "\n",
    "canvas.fill_style = 'pink';\n",
    "canvas.fill_rect(0, 150, 400, 10)\n",
    "\n",
    "canvas"
   ]
  },
  {
   "cell_type": "code",
   "execution_count": 94,
   "metadata": {},
   "outputs": [
    {
     "data": {
      "application/vnd.jupyter.widget-view+json": {
       "model_id": "7e2d42b71df34885b4c69e6b73b474fc",
       "version_major": 2,
       "version_minor": 0
      },
      "text/plain": [
       "Canvas(height=250, width=400)"
      ]
     },
     "metadata": {},
     "output_type": "display_data"
    }
   ],
   "source": [
    "from ipycanvas import Canvas\n",
    "canvas = Canvas(width=400, height=250)\n",
    "\n",
    "colors =['red', 'orange', 'yellow', 'green', 'blue', 'purple', 'brown',\n",
    "         'cyan', 'lightgreen', 'lightblue']\n",
    "canvas.font = '16px serif'\n",
    "\n",
    "# draw some boxes of different colors\n",
    "\n",
    "canvas.translate(10,10)\n",
    "for i in range(len(colors)):\n",
    "   canvas.fill_style = colors[i];\n",
    "   canvas.fill_text(colors[i], 0, 25*i + 10)\n",
    "   canvas.fill_rect(70, i*25, 400, 15)\n",
    "\n",
    "canvas"
   ]
  },
  {
   "cell_type": "code",
   "execution_count": 100,
   "metadata": {},
   "outputs": [
    {
     "data": {
      "application/vnd.jupyter.widget-view+json": {
       "model_id": "05a0a9a420b844b392813b475e873b5b",
       "version_major": 2,
       "version_minor": 0
      },
      "text/plain": [
       "Canvas(height=250, width=400)"
      ]
     },
     "metadata": {},
     "output_type": "display_data"
    }
   ],
   "source": [
    "from ipycanvas import Canvas\n",
    "canvas = Canvas(width=400, height=250)\n",
    "\n",
    "colors =['red', 'orange', 'yellow', 'green', 'blue', 'purple', 'brown',\n",
    "         'cyan', 'lightgreen', 'lightblue']\n",
    "canvas.font = '16px serif'\n",
    "\n",
    "# draw some lines of different colors\n",
    "\n",
    "canvas.translate(10,10)\n",
    "for i in range(len(colors)):\n",
    "   canvas.fill_style = colors[i];  \n",
    "   canvas.fill_text(colors[i], 0, 25*i + 10)\n",
    "   # these are not work as I would expect\n",
    "   #canvas.move_to(70, 25*i)\n",
    "   #canvas.line_to(400, 25*i)\n",
    "   #canvas.stroke()\n",
    "   canvas.fill_rect(70, i*25, 400, 2)\n",
    "\n",
    "canvas"
   ]
  },
  {
   "cell_type": "code",
   "execution_count": null,
   "metadata": {},
   "outputs": [],
   "source": []
  }
 ],
 "metadata": {
  "kernelspec": {
   "display_name": "turtle",
   "language": "python",
   "name": "turtle"
  },
  "language_info": {
   "codemirror_mode": {
    "name": "ipython",
    "version": 3
   },
   "file_extension": ".py",
   "mimetype": "text/x-python",
   "name": "python",
   "nbconvert_exporter": "python",
   "pygments_lexer": "ipython3",
   "version": "3.6.10"
  }
 },
 "nbformat": 4,
 "nbformat_minor": 4
}
