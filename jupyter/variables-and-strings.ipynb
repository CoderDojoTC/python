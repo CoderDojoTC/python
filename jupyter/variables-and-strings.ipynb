{
 "cells": [
  {
   "cell_type": "markdown",
   "metadata": {},
   "source": [
    "# Variables in Python"
   ]
  },
  {
   "cell_type": "markdown",
   "metadata": {},
   "source": [
    "If you want to write a useful code you need to store and label pieces of information and that's what variables do.<br>\n",
    "Variable needs a name and what you want to store in it<br>"
   ]
  },
  {
   "cell_type": "markdown",
   "metadata": {},
   "source": [
    "**Assign a value**"
   ]
  },
  {
   "cell_type": "code",
   "execution_count": 6,
   "metadata": {},
   "outputs": [],
   "source": [
    "age cole=12"
   ]
  },
  {
   "cell_type": "markdown",
   "metadata": {},
   "source": [
    "**Print Value**"
   ]
  },
  {
   "cell_type": "code",
   "execution_count": 8,
   "metadata": {},
   "outputs": [
    {
     "name": "stdout",
     "output_type": "stream",
     "text": [
      "20\n",
      "12\n"
     ]
    }
   ],
   "source": [
    "print(age_cole)\n",
    "print(AGE_cole)"
   ]
  },
  {
   "cell_type": "markdown",
   "metadata": {},
   "source": [
    "**NAMING VARIABLES** :<br>\n",
    "- Choose good names<br>\n",
    "- Can contain letters,numbers,underscores but they should begin with letters\n"
   ]
  },
  {
   "cell_type": "markdown",
   "metadata": {},
   "source": [
    "**DO's and DON'Ts :** <br>\n",
    "- Start name with letter<br>\n",
    "- Any number or letter can be used<br>\n",
    "- Symbols like -,/,# or @ are not allowed<br>\n",
    "- Spaces can't be used<br>\n",
    "- Underscore to be used instead of space<br>\n",
    "- Uppercase & Lowercase are different<br>\n",
    "- Avoid words python uses as commands<br>\n"
   ]
  },
  {
   "cell_type": "markdown",
   "metadata": {},
   "source": [
    "**TYPES :** <br>  \n",
    "- Whole numbers are Integers<br>\n",
    "- Decimal points are floats<br>\n",
    "- Programs usually count things in integers<br>\n",
    "- Floats are used for measurement<br>"
   ]
  },
  {
   "cell_type": "code",
   "execution_count": 9,
   "metadata": {},
   "outputs": [
    {
     "name": "stdout",
     "output_type": "stream",
     "text": [
      "8\n",
      "8\n",
      "8\n"
     ]
    }
   ],
   "source": [
    "a=b=c=8\n",
    "print(a)\n",
    "print(b)\n",
    "print(c)"
   ]
  },
  {
   "cell_type": "code",
   "execution_count": 10,
   "metadata": {},
   "outputs": [
    {
     "name": "stdout",
     "output_type": "stream",
     "text": [
      "1\n",
      "2\n",
      "3\n"
     ]
    }
   ],
   "source": [
    "a,b,c=1,2,3\n",
    "print(a)\n",
    "print(b)\n",
    "print(c)"
   ]
  },
  {
   "cell_type": "markdown",
   "metadata": {},
   "source": [
    "In python we have to initialize variables else we will get NOT DEFINED error"
   ]
  },
  {
   "cell_type": "code",
   "execution_count": 11,
   "metadata": {},
   "outputs": [
    {
     "ename": "NameError",
     "evalue": "name 'z' is not defined",
     "output_type": "error",
     "traceback": [
      "\u001b[1;31m---------------------------------------------------------------------------\u001b[0m",
      "\u001b[1;31mNameError\u001b[0m                                 Traceback (most recent call last)",
      "\u001b[1;32m<ipython-input-11-c01ac3f50fdc>\u001b[0m in \u001b[0;36m<module>\u001b[1;34m\u001b[0m\n\u001b[1;32m----> 1\u001b[1;33m \u001b[0mprint\u001b[0m\u001b[1;33m(\u001b[0m\u001b[0mz\u001b[0m\u001b[1;33m)\u001b[0m\u001b[1;33m\u001b[0m\u001b[1;33m\u001b[0m\u001b[0m\n\u001b[0m",
      "\u001b[1;31mNameError\u001b[0m: name 'z' is not defined"
     ]
    }
   ],
   "source": [
    "print(z)"
   ]
  },
  {
   "cell_type": "markdown",
   "metadata": {},
   "source": [
    "**Python Specialty** <br>\n",
    "In some languages we have specify what type of data a variable may contain in it's declaration itself <br>\n",
    "This reserves memory space and is called \"static typing\" <br>\n",
    "In python no such limitations and it adjusts the memory allocation to suit the data values assigned to the variables<br>\n",
    "This is called dynamic typing"
   ]
  },
  {
   "cell_type": "markdown",
   "metadata": {},
   "source": [
    "**Simple Calculation :**"
   ]
  },
  {
   "cell_type": "code",
   "execution_count": 12,
   "metadata": {},
   "outputs": [
    {
     "name": "stdout",
     "output_type": "stream",
     "text": [
      "42\n"
     ]
    }
   ],
   "source": [
    "x=6\n",
    "y=x*7\n",
    "print(y)"
   ]
  },
  {
   "cell_type": "code",
   "execution_count": 13,
   "metadata": {},
   "outputs": [
    {
     "name": "stdout",
     "output_type": "stream",
     "text": [
      "42\n"
     ]
    }
   ],
   "source": [
    "x=10\n",
    "print(y)"
   ]
  },
  {
   "cell_type": "code",
   "execution_count": 14,
   "metadata": {},
   "outputs": [
    {
     "name": "stdout",
     "output_type": "stream",
     "text": [
      "70\n"
     ]
    }
   ],
   "source": [
    "x=10\n",
    "y=x*7\n",
    "print(y)"
   ]
  },
  {
   "cell_type": "markdown",
   "metadata": {},
   "source": [
    "# Strings in Python"
   ]
  },
  {
   "cell_type": "markdown",
   "metadata": {},
   "source": [
    "Coders use word string for any data made up of a sequence of letters or other characters<br>\n",
    "Words & sentences are stored as strings<br>\n",
    "Almost all programs use strings at some point<br>"
   ]
  },
  {
   "cell_type": "markdown",
   "metadata": {},
   "source": [
    "**Strings in Variables :**<br>\n",
    "Strings can be assigned to variables<br>\n",
    "They must always have quotation marks ''"
   ]
  },
  {
   "cell_type": "code",
   "execution_count": 16,
   "metadata": {},
   "outputs": [
    {
     "name": "stdout",
     "output_type": "stream",
     "text": [
      "Joela\n"
     ]
    }
   ],
   "source": [
    "name=\"Joela\"\n",
    "print(name)"
   ]
  },
  {
   "cell_type": "code",
   "execution_count": 19,
   "metadata": {},
   "outputs": [
    {
     "name": "stdout",
     "output_type": "stream",
     "text": [
      "I like to code in Python\n"
     ]
    }
   ],
   "source": [
    "pratham='I like to code in Python'\n",
    "print(pratham)"
   ]
  },
  {
   "cell_type": "code",
   "execution_count": 22,
   "metadata": {},
   "outputs": [
    {
     "name": "stdout",
     "output_type": "stream",
     "text": [
      "I like coding.\n",
      "I want to learn Python.\n"
     ]
    }
   ],
   "source": [
    "pratham='''I like coding.\n",
    "I want to learn Python.'''\n",
    "print(pratham)"
   ]
  },
  {
   "cell_type": "code",
   "execution_count": 26,
   "metadata": {},
   "outputs": [
    {
     "name": "stdout",
     "output_type": "stream",
     "text": [
      "He said, Aren`t they learning coding in Python\n"
     ]
    }
   ],
   "source": [
    "silly_string='He said, Aren`t they learning coding in Python'\n",
    "print(silly_string)"
   ]
  },
  {
   "cell_type": "code",
   "execution_count": 24,
   "metadata": {},
   "outputs": [
    {
     "name": "stdout",
     "output_type": "stream",
     "text": [
      "He said, \"Aren't they learning coding in Python\"\n"
     ]
    }
   ],
   "source": [
    "silly_string='''He said, \"Aren't they learning coding in Python\"'''\n",
    "print(silly_string)"
   ]
  },
  {
   "cell_type": "markdown",
   "metadata": {},
   "source": [
    "Adding backslash(\\) before each quotation mark in a string to avoid syntax error<br>\n",
    "This is called Escaping"
   ]
  },
  {
   "cell_type": "code",
   "execution_count": 28,
   "metadata": {},
   "outputs": [
    {
     "name": "stdout",
     "output_type": "stream",
     "text": [
      "He said, Aren't they learning coding in Python\n",
      "He said, \"Aren't they learning coding in Python\"\n"
     ]
    }
   ],
   "source": [
    "silly_str1='He said, Aren\\'t they learning coding in Python'\n",
    "print(silly_str1)\n",
    "silly_str2=\"He said, \\\"Aren't they learning coding in Python\\\"\"\n",
    "print(silly_str2)"
   ]
  },
  {
   "cell_type": "markdown",
   "metadata": {},
   "source": [
    "**Combining Strings :**<br>\n"
   ]
  },
  {
   "cell_type": "code",
   "execution_count": 29,
   "metadata": {},
   "outputs": [
    {
     "name": "stdout",
     "output_type": "stream",
     "text": [
      "Welcome to Python Session, Joela\n"
     ]
    }
   ],
   "source": [
    "name='Joela'\n",
    "greeting='Welcome to Python Session, '\n",
    "message=greeting+name\n",
    "print(message)"
   ]
  },
  {
   "cell_type": "markdown",
   "metadata": {},
   "source": [
    "***Extra Tips*** <br>\n",
    "You can count number of characters in a string by function **len()**"
   ]
  },
  {
   "cell_type": "code",
   "execution_count": 30,
   "metadata": {},
   "outputs": [
    {
     "data": {
      "text/plain": [
       "32"
      ]
     },
     "execution_count": 30,
     "metadata": {},
     "output_type": "execute_result"
    }
   ],
   "source": [
    "len(message)"
   ]
  },
  {
   "cell_type": "markdown",
   "metadata": {},
   "source": [
    "**Embedding Values in Strings**"
   ]
  },
  {
   "cell_type": "code",
   "execution_count": 31,
   "metadata": {},
   "outputs": [
    {
     "name": "stdout",
     "output_type": "stream",
     "text": [
      "I scored 95 points\n"
     ]
    }
   ],
   "source": [
    "score=95\n",
    "msg=\"I scored %s points\"\n",
    "print(msg % score)"
   ]
  },
  {
   "cell_type": "code",
   "execution_count": 32,
   "metadata": {},
   "outputs": [
    {
     "name": "stdout",
     "output_type": "stream",
     "text": [
      "I scored 95 and 98 points in 2 games\n"
     ]
    }
   ],
   "source": [
    "msg=\"I scored %s and %s points in 2 games\"\n",
    "print(msg % (95,98))"
   ]
  },
  {
   "cell_type": "markdown",
   "metadata": {},
   "source": [
    "**Multiplying Strings**"
   ]
  },
  {
   "cell_type": "code",
   "execution_count": 34,
   "metadata": {},
   "outputs": [
    {
     "name": "stdout",
     "output_type": "stream",
     "text": [
      "a a a a a a a a a a \n"
     ]
    }
   ],
   "source": [
    "print(10*'a ')"
   ]
  },
  {
   "cell_type": "code",
   "execution_count": 35,
   "metadata": {},
   "outputs": [
    {
     "name": "stdout",
     "output_type": "stream",
     "text": [
      "Hello World!!!\n",
      "                          Hello World!!!\n",
      "                                                   Hello World!!!\n",
      "                                                                            Hello World!!!\n"
     ]
    }
   ],
   "source": [
    "print(\"Hello World!!!\")\n",
    "spaces=' '*25\n",
    "print('%s Hello World!!!' % spaces)\n",
    "spaces=' '*50\n",
    "print('%s Hello World!!!' % spaces)\n",
    "spaces=' '*75\n",
    "print('%s Hello World!!!' % spaces)"
   ]
  }
 ],
 "metadata": {
  "kernelspec": {
   "display_name": "Python 3",
   "language": "python",
   "name": "python3"
  },
  "language_info": {
   "codemirror_mode": {
    "name": "ipython",
    "version": 3
   },
   "file_extension": ".py",
   "mimetype": "text/x-python",
   "name": "python",
   "nbconvert_exporter": "python",
   "pygments_lexer": "ipython3",
   "version": "3.7.3"
  }
 },
 "nbformat": 4,
 "nbformat_minor": 2
}
